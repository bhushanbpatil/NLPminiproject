{
 "cells": [
  {
   "cell_type": "code",
   "execution_count": 1,
   "metadata": {},
   "outputs": [
    {
     "name": "stdout",
     "output_type": "stream",
     "text": [
      "hello world!\n"
     ]
    }
   ],
   "source": [
    "print(\"hello world!\")"
   ]
  },
  {
   "cell_type": "code",
   "execution_count": 14,
   "metadata": {},
   "outputs": [],
   "source": [
    "import tkinter as tk\n",
    "from tkinter import *\n",
    "from tkinter.ttk import * \n",
    "from PIL import ImageDraw, ImageTk\n",
    "from PIL import Image as Img\n",
    "\n",
    "\n",
    "def write_slogan():\n",
    "    print(\"Tkinter is easy to use!\")\n",
    "\n",
    "root = tk.Tk()\n",
    "frame = tk.Frame(root)\n",
    "frame.pack()\n",
    "\n",
    "\n",
    "        \n",
    "def Upload_Shot():\n",
    "    pass\n",
    "        \n",
    "def Track_Ball():\n",
    "    pass\n",
    "\n",
    "def uploadVideo():\n",
    "    pass\n",
    "\n",
    "def show_frame(cap):\n",
    "    pass\n",
    "\n",
    "TextBox= tk.Text(frame)\n",
    "TextBox.tag_config(\"here\", background=\"black\", foreground=\"green\")\n",
    "\n",
    "\n",
    "Upload_Shot = tk.Button(frame,width=21, height=15, font=('Helvetica', '15', 'bold'),\n",
    "                   text=\"UPLOAD SHOT\", bg='orange', command=Upload_Shot,\n",
    "                   fg=\"white\")\n",
    "\n",
    "Upload_Shot.pack(side=tk.LEFT)\n",
    "\n",
    "TextBox.pack(side=tk.LEFT)\n",
    "\n",
    "Track_Ball = tk.Button(frame,width=21, height=15, font=('Helvetica', '15', 'bold'),\n",
    "                   text=\"TRACK BALL\", bg='green', command=Track_Ball,\n",
    "                    fg='white')\n",
    "Track_Ball.pack(side=tk.LEFT)\n",
    "\n",
    "frame.config(bg='green')\n",
    "\n",
    "        \n",
    "root.mainloop()"
   ]
  },
  {
   "cell_type": "code",
   "execution_count": null,
   "metadata": {},
   "outputs": [],
   "source": []
  },
  {
   "cell_type": "code",
   "execution_count": null,
   "metadata": {},
   "outputs": [],
   "source": []
  }
 ],
 "metadata": {
  "kernelspec": {
   "display_name": "Python 3",
   "language": "python",
   "name": "python3"
  },
  "language_info": {
   "codemirror_mode": {
    "name": "ipython",
    "version": 3
   },
   "file_extension": ".py",
   "mimetype": "text/x-python",
   "name": "python",
   "nbconvert_exporter": "python",
   "pygments_lexer": "ipython3",
   "version": "3.6.9"
  }
 },
 "nbformat": 4,
 "nbformat_minor": 2
}
