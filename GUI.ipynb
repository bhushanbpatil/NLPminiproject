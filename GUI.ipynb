{
 "cells": [
  {
   "cell_type": "code",
   "execution_count": 1,
   "metadata": {},
   "outputs": [
    {
     "name": "stdout",
     "output_type": "stream",
     "text": [
      "hello world!\n"
     ]
    }
   ],
   "source": [
    "print(\"hello world!\")"
   ]
  },
  {
   "cell_type": "code",
   "execution_count": 4,
   "metadata": {},
   "outputs": [
    {
     "name": "stdout",
     "output_type": "stream",
     "text": [
      "ભારત રત્ન ભારત દેશનો સર્વોચ્ચ નાગરિક સન્માન પુરસ્કાર છે. આ પુરસ્કાર રાષ્ટ્રની સેવા બદલ એનાયત કરવામાં આવે છે. આ સેવાઓમાં કલા, સાહિત્ય, વિજ્ઞાન અથવા સાર્વજનિક ક્ષેત્રે આપેલી સેવાઓનો સમાવેશ થાય છે. શરૂઆતમાં આ સન્માન ફક્ત કળા, વિજ્ઞાન, સાહિત્ય અને જાહેરસેવાનાં ક્ષેત્રમાં પ્રદાન કરનારી વ્યક્તિઓને જ આપવામાં આવતું હતું. પણ ડિસેમ્બર ૨૦૧૧માં કરેલા સુધારા મુજબ આ ક્ષેત્રને વિસ્તૃત કરીને 'કોઇપણ ક્ષેત્રમાં માનવસેવાના પ્રયાસ' બદલ આપવામાં આવે છે. આ પુરસ્કારની સ્થાપના ૨ જાન્યુઆરી ૧૯૫૪ એ સમયના રાષ્ટ્રપતિ શ્રી રાજેન્દ્ર પ્રસાદ દ્વારા કરવામાં આવી હતી. આ સન્માન માટે દર વર્ષે ભારતના વડાપ્રધાન દ્વારા ભારતના રાષ્ટ્રપતિને ભલામણ કરવામાં આવે છે. દર વર્ષે વધુમાં વધુ ત્રણ નામોની ભલામણ કરી શકાય છે. આ સન્માન મેળવનારી વ્યક્તિઓને રાષ્ટ્રપતિનાં હસ્તાક્ષરવાળું એક પ્રશસ્તિપત્ર અને પીપળાનાં પાનના આકારનું સન્માનચિન્હ આપવામાં આવે છે. આ સન્માન સાથે કોઇ નાણાકીય પુરસ્કાર જોડાયેલ નથી. પણ ભારતરત્ન મેળવનારી વ્યક્તિને ભારતનાં શિષ્ટાચારની યાદીમાં સાતમાં ક્રમે ગણવામાં આવે છે. જોકે આ સન્માનને ઇલ્કાબની જેમ વાપરવાની બંધારણીય મનાઇ છે. આ પુરસ્કાર વડે સન્માનિત વ્યક્તિ પોતાના નામ આગળ કોઇ પદવી લખતા નથી.\n",
      "\n"
     ]
    }
   ],
   "source": [
    "import tkinter as tk\n",
    "from tkinter import *\n",
    "from tkinter.ttk import * \n",
    "from PIL import ImageDraw, ImageTk\n",
    "from PIL import Image as Img\n",
    "from inltk.inltk import *\n",
    "from gensim.summarization import summarize\n",
    "from langdetect import detect\n",
    "\n",
    "def write_slogan():\n",
    "    print(\"Tkinter is easy to use!\")\n",
    "\n",
    "root = tk.Tk()\n",
    "frame = tk.Frame(root)\n",
    "frame.pack()\n",
    "\n",
    "\n",
    "        \n",
    "def Upload_Shot():\n",
    "    inputText= TextBox.get('1.0', END)\n",
    "    print(inputText)\n",
    "    x= detect(inputText)\n",
    "    TextBox.delete('1.0', END)\n",
    "    TextBox.insert('1.0',x)\n",
    "        \n",
    "def Track_Ball():\n",
    "    inputText= TextBox.get('1.0', END)\n",
    "    print(inputText)\n",
    "    eng_summary = summarize(inputText)\n",
    "    print(eng_summary)\n",
    "    print(\"=====\"*20)\n",
    "    TextBox.delete('1.0', END)\n",
    "    TextBox.insert('1.0',eng_summary)\n",
    "\n",
    "\n",
    "\n",
    "TextBox= tk.Text(frame)\n",
    "#TextBox.config(bg='black')\n",
    "\n",
    "\n",
    "Upload_Shot = tk.Button(frame,width=21, height=15, font=('Helvetica', '15', 'bold'),\n",
    "                   text=\"Identify\", bg='#FF9933', command=Upload_Shot,\n",
    "                   fg=\"white\")\n",
    "\n",
    "Upload_Shot.pack(side=tk.LEFT)\n",
    "\n",
    "TextBox.pack(side=tk.LEFT)\n",
    "\n",
    "Track_Ball = tk.Button(frame,width=21, height=15, font=('Helvetica', '15', 'bold'),\n",
    "                   text=\"Summarize\", bg='green', command=Track_Ball,\n",
    "                    fg='white')\n",
    "Track_Ball.pack(side=tk.LEFT)\n",
    "\n",
    "frame.config(bg='white')\n",
    "\n",
    "        \n",
    "root.mainloop()"
   ]
  },
  {
   "cell_type": "code",
   "execution_count": null,
   "metadata": {},
   "outputs": [],
   "source": []
  },
  {
   "cell_type": "code",
   "execution_count": null,
   "metadata": {},
   "outputs": [],
   "source": []
  }
 ],
 "metadata": {
  "kernelspec": {
   "display_name": "Python 3",
   "language": "python",
   "name": "python3"
  },
  "language_info": {
   "codemirror_mode": {
    "name": "ipython",
    "version": 3
   },
   "file_extension": ".py",
   "mimetype": "text/x-python",
   "name": "python",
   "nbconvert_exporter": "python",
   "pygments_lexer": "ipython3",
   "version": "3.6.9"
  }
 },
 "nbformat": 4,
 "nbformat_minor": 2
}
